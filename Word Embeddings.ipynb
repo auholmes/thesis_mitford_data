{
 "cells": [
  {
   "cell_type": "code",
   "execution_count": 14,
   "metadata": {},
   "outputs": [],
   "source": [
    "import os\n",
    "from nltk.tokenize import WordPunctTokenizer"
   ]
  },
  {
   "cell_type": "code",
   "execution_count": 103,
   "metadata": {},
   "outputs": [],
   "source": [
    "clean_text_dir = '../mitford_letters_clean'\n",
    "clean_text_dir2 = '../emma_clean_text'\n",
    "letters = os.listdir(clean_text_dir)\n",
    "letters2 = os.listdir(clean_text_dir2)"
   ]
  },
  {
   "cell_type": "markdown",
   "metadata": {},
   "source": [
    "Load and tokenize text."
   ]
  },
  {
   "cell_type": "code",
   "execution_count": 113,
   "metadata": {},
   "outputs": [
    {
     "name": "stdout",
     "output_type": "stream",
     "text": [
      "105 documents\n"
     ]
    }
   ],
   "source": [
    "documents = []\n",
    "for l in letters:\n",
    "    with open(os.path.join(clean_text_dir, l), 'r') as f:\n",
    "        text = f.read()\n",
    "    tokens = WordPunctTokenizer().tokenize(text)\n",
    "    documents.append(tokens)\n",
    "for l in letters2:\n",
    "    with open(os.path.join(clean_text_dir2, l), 'r') as f:\n",
    "        text = f.read()\n",
    "    tokens = WordPunctTokenizer().tokenize(text)\n",
    "    documents.append(tokens)\n",
    "print('{} documents'.format(len(documents)))"
   ]
  },
  {
   "cell_type": "markdown",
   "metadata": {},
   "source": [
    "Train domain-specific word embeddings"
   ]
  },
  {
   "cell_type": "code",
   "execution_count": 5,
   "metadata": {},
   "outputs": [],
   "source": [
    "from gensim.test.utils import common_texts, get_tmpfile\n",
    "from gensim.models import Word2Vec"
   ]
  },
  {
   "cell_type": "code",
   "execution_count": 105,
   "metadata": {},
   "outputs": [],
   "source": [
    "path = get_tmpfile(\"word2vec.model\")"
   ]
  },
  {
   "cell_type": "code",
   "execution_count": 142,
   "metadata": {},
   "outputs": [],
   "source": [
    "model = Word2Vec(documents, size=100, window=3, min_count=1, workers=4)"
   ]
  },
  {
   "cell_type": "markdown",
   "metadata": {},
   "source": [
    "Compare word vectors"
   ]
  },
  {
   "cell_type": "code",
   "execution_count": 167,
   "metadata": {},
   "outputs": [
    {
     "data": {
      "text/plain": [
       "[('bank', 0.9966375827789307),\n",
       " ('front', 0.9953698515892029),\n",
       " ('sand', 0.9946321249008179),\n",
       " ('town', 0.9944963455200195),\n",
       " ('way', 0.9942691326141357),\n",
       " ('felucca', 0.9938031435012817),\n",
       " ('Nile', 0.993324339389801),\n",
       " ('possession', 0.9932224750518799),\n",
       " ('turns', 0.9931670427322388),\n",
       " ('delight', 0.9929343461990356)]"
      ]
     },
     "execution_count": 167,
     "metadata": {},
     "output_type": "execute_result"
    }
   ],
   "source": [
    "model.wv.most_similar('river')"
   ]
  },
  {
   "cell_type": "code",
   "execution_count": 163,
   "metadata": {},
   "outputs": [
    {
     "data": {
      "text/plain": [
       "[('fine', 0.9987378120422363),\n",
       " ('north', 0.998624324798584),\n",
       " ('perfect', 0.9983652830123901),\n",
       " ('occasional', 0.9978266954421997),\n",
       " ('gale', 0.9978204965591431),\n",
       " ('book', 0.9976820945739746),\n",
       " ('light', 0.9975667595863342),\n",
       " ('delicious', 0.9975494742393494),\n",
       " ('south', 0.9973665475845337),\n",
       " ('charming', 0.9971781373023987)]"
      ]
     },
     "execution_count": 163,
     "metadata": {},
     "output_type": "execute_result"
    }
   ],
   "source": [
    "model.wv.most_similar('beautiful')"
   ]
  },
  {
   "cell_type": "code",
   "execution_count": 230,
   "metadata": {},
   "outputs": [
    {
     "data": {
      "text/plain": [
       "[('Good', 0.9977524876594543),\n",
       " ('1820', 0.9976087808609009),\n",
       " ('Shepheards', 0.9972938299179077),\n",
       " ('tonight', 0.9969214797019958),\n",
       " ('An', 0.9969030618667603),\n",
       " ('Day', 0.9962189197540283),\n",
       " ('Reached', 0.9960624575614929),\n",
       " ('29th', 0.995902419090271),\n",
       " ('On', 0.9958285093307495),\n",
       " ('39', 0.9957873225212097)]"
      ]
     },
     "execution_count": 230,
     "metadata": {},
     "output_type": "execute_result"
    }
   ],
   "source": [
    "model.wv.most_similar('Alexandria')"
   ]
  },
  {
   "cell_type": "code",
   "execution_count": null,
   "metadata": {},
   "outputs": [],
   "source": []
  }
 ],
 "metadata": {
  "kernelspec": {
   "display_name": "Python 3",
   "language": "python",
   "name": "python3"
  },
  "language_info": {
   "codemirror_mode": {
    "name": "ipython",
    "version": 3
   },
   "file_extension": ".py",
   "mimetype": "text/x-python",
   "name": "python",
   "nbconvert_exporter": "python",
   "pygments_lexer": "ipython3",
   "version": "3.6.5"
  }
 },
 "nbformat": 4,
 "nbformat_minor": 2
}
