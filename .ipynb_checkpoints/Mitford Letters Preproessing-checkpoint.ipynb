{
 "cells": [
  {
   "cell_type": "code",
   "execution_count": 14,
   "metadata": {},
   "outputs": [],
   "source": [
    "import os\n",
    "import lxml\n",
    "import pandas as pd\n",
    "from bs4 import BeautifulSoup"
   ]
  },
  {
   "cell_type": "code",
   "execution_count": 13,
   "metadata": {},
   "outputs": [],
   "source": [
    "data_dir = 'mitford-letters'\n",
    "clean_text_dir = '../mitford_letters_clean'\n",
    "gold_standard_dir = '../mitford_letters_gs'\n",
    "letters = os.listdir(data_dir)\n",
    "letters = [x for x in letters if x not in ['si.xml', '__contents__.xml']]"
   ]
  },
  {
   "cell_type": "markdown",
   "metadata": {},
   "source": [
    "There are 97 Mitford letters."
   ]
  },
  {
   "cell_type": "code",
   "execution_count": 22,
   "metadata": {},
   "outputs": [
    {
     "name": "stdout",
     "output_type": "stream",
     "text": [
      "May 2st 1821.Seymour Court near MarlowHow much I thank you, my dear Sir, for your very interesting account of poor John Keats--It explains at once the only want that I ever found in his poetry--a want of heart. Oh he should have lived to have become happier, better, wiser, with his fine perception of beauty he could not have failed to discover what was right--& health & happiness would have done every thingeverything for him--poor John Keats!--Do not you see with what a shaking hand I am writing? I must tell you how it happens. A very kind & partial  old friend, Mr. Johnson, the owner of this beautiful  place is lately dead--& his Sister sent for me to assist her in arranging & cataloguing his very curious & valuable library. Mr. JohnsonMr. Johnson was a great Politician, an active member of the Hampden Club, & all his political books  are left to your Countryman Mr. Northmore. So we are dividing as well as we can the Politics from the History & getting the rest into order for sale--never I believe had mortal such a job since the Princess in the fairy tale who was ordered to separate the plumage of each bird from a room full of feathers.--I have got a room entirely full of books French English Italian & Latin all pell mell--no two in their proper place & nobody to help but a mistresspartly blind & a maid wholly stupid. Oh dear me! to have been lifting about heavy books for these three days, & making something like a catalogue between whiles, & I am now sat down to talk to you to comfort & refresh myself. In addition to the other difficulties of this booksorting, I have the strongest possible desire to crib as much as I can from Mr. Northmore--for Mr. Johnson having  unfortunately neglected to renew the lives this lovely place & the valuable estate round it fall immediately to the Dean & Chapter of Bristol, & the excellent sister who has devoted so many years to his comfort will return to comparative poverty. I hope the library will sell well.--Do you know any thinganything of the scenery round Marlow? Oh it is so beautiful! Especially the view from this house which stands on the brow of a hill & looks down on Marlow (a town made to be looked at a mile off the charm vanishes when you approached nearer)--Marlow so intermixed with trees--& and the Thames winding like a snake--showing himself only by glimpses, but given the perpetual consciousness of his presence--Bisham Abbeythat oldest & most venerable place--& the whole prospect crowned by hanging beech woods just in their young shining leaves  so enchantingly varied by gleams of the sun wandering over them--& the hills folding in so exquisitely! Oh it is beautiful! I wished for you very much last night when I went out to hear the nightingales--for you & Miss James. You will see her I hope for she is in London--So tell me how she looks--for I am afraid she takes no care of herself--she has been very ill.I have such an opinion of your critical talents that I cannot help asking you to take the trouble to read a little dramatic sketch called Emilyin the present number of the Baldwin's MagazineMitford is likely referring to \"Emily, A Dramatic Sketch\", which appeared in the London Magazine 3.17 (May 1821): 499-505.--& to tell me if Mr. Talfourd's kindness misleads him when he says that there is some indication of dramatic talent in the dialogue. I don't ask you to tell me the truth without flattery--because you are truth itself. I have written some more of those little dramas & intend giving a series in the Baldwin's Magazine, Mr. Baldwin having expressed himself pleased with them though I don't believe he knows the name of his new correspondent. By the bye I have not seen the Magazine--but know it is inserted & I feel quite proud at being in such good company--I was quite astonished when I found my sketch was accepted.--Oh my dear Mr. Haydon you have no notion how much Papa laughs at your complimenting my handwriting.--he always says I write worse than any oneanyone in the  world--& very unluckily Mr. Macready to whom Mr. Talfourd> gave my Fiesco could scarcely make it out--there's an affront! My very best specimen of penmanship!--so that I was obliged to have it copied out to be sent to the Manager. I don't know its fate yet--but I dare say it's rejected, & I shall write another.What you say of your picture is delightful to all of us--I have no doubt but you will paint on till Christ's entrance shall be to your future pictures as Macbeth is to that. I am sure you will--quite sure. Oh how proud England will be of her great painter And how worthy of such a painter is our glorious England!My candle is going out--& I must go out too--that is to say I must go in.--I believe the dogs came to us the first week in October--so that the man has had them rather more than half a year--I mention this as you desire it & as the man is not rich. The dogs are quite well--especially the dear Daphne.--Papa & Mama are not at home--or they would send every sort of kind message--I want them very much--but I shall go to them next Tuesday thank God! I long to be back at my own dear home beautiful as this place is, & kind as is its mistress--In the mean timemeantime I must go to bed or I shall be in the dark.Good bye--God bless you--\n",
      "               Ever most sincerely your'syoursM. R. MitfordSo you think Mr. Hofland's Exhibition will answer? I fear not.\n"
     ]
    }
   ],
   "source": [
    "letter = letters[0]\n",
    "with open(os.path.join(data_dir, letter), 'r') as f:\n",
    "    content = f.read()\n",
    "soup = BeautifulSoup(content, 'lxml')\n",
    "text = soup.findAll('div', {'type': 'letter'})\n",
    "text = text[0].text\n",
    "print(text)"
   ]
  }
 ],
 "metadata": {
  "kernelspec": {
   "display_name": "Python 3",
   "language": "python",
   "name": "python3"
  },
  "language_info": {
   "codemirror_mode": {
    "name": "ipython",
    "version": 3
   },
   "file_extension": ".py",
   "mimetype": "text/x-python",
   "name": "python",
   "nbconvert_exporter": "python",
   "pygments_lexer": "ipython3",
   "version": "3.6.5"
  }
 },
 "nbformat": 4,
 "nbformat_minor": 2
}
