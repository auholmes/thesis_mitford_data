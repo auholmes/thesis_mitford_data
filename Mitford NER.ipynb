{
 "cells": [
  {
   "cell_type": "code",
   "execution_count": 9,
   "metadata": {},
   "outputs": [],
   "source": [
    "import os\n",
    "import re\n",
    "import pandas as pd\n",
    "import spacy\n",
    "from spacy import displacy\n",
    "nlp = spacy.load('en')"
   ]
  },
  {
   "cell_type": "code",
   "execution_count": 37,
   "metadata": {},
   "outputs": [],
   "source": [
    "data_dir = 'mitford-letters'\n",
    "clean_text_dir = '../mitford_letters_clean'\n",
    "gold_standard_dir = '../mitford_letters_gs'\n",
    "spacy_dir = '../spacy_mitford'\n",
    "letters = os.listdir(clean_text_dir)"
   ]
  },
  {
   "cell_type": "code",
   "execution_count": 41,
   "metadata": {},
   "outputs": [
    {
     "name": "stderr",
     "output_type": "stream",
     "text": [
      "/anaconda3/lib/python3.6/site-packages/pandas/core/indexing.py:189: SettingWithCopyWarning: \n",
      "A value is trying to be set on a copy of a slice from a DataFrame\n",
      "\n",
      "See the caveats in the documentation: http://pandas.pydata.org/pandas-docs/stable/indexing.html#indexing-view-versus-copy\n",
      "  self._setitem_with_indexer(indexer, value)\n"
     ]
    }
   ],
   "source": [
    "for letter in letters:\n",
    "    with open(os.path.join(clean_text_dir, letter), 'r') as f:\n",
    "        text = f.read()\n",
    "    \n",
    "    text = text.strip()\n",
    "    text = re.sub('\\n', '', text)\n",
    "    text = re.sub('\\t', '', text)\n",
    "    doc = nlp(text)\n",
    "    ents = doc.ents\n",
    "    ents = [(e.text, e.start_char, e.end_char, e.label_) for e in doc.ents if e.label_ in ['PERSON', 'GPE']]\n",
    "    \n",
    "    tags = []\n",
    "    begin_offsets = []\n",
    "    end_offsets = []\n",
    "    text = []\n",
    "    for e in ents:\n",
    "        text.append(e[0])\n",
    "        tags.append(e[-1])\n",
    "        begin_offsets.append(e[1])\n",
    "        end_offsets.append(e[2])\n",
    "        \n",
    "    spacy_df = pd.DataFrame({'tag': tags,\n",
    "                            'begin_offsets': begin_offsets,\n",
    "                            'end_offset': end_offsets,\n",
    "                            'text': text})\n",
    "    spacy_df['tag'].loc[spacy_df['tag'] == 'GPE'] = 'place'\n",
    "    spacy_df['tag'].loc[spacy_df['tag'] == 'PERSON'] = 'person'\n",
    "    spacy_df.to_csv(os.path.join(spacy_dir, letter), index=False)"
   ]
  },
  {
   "cell_type": "code",
   "execution_count": 40,
   "metadata": {
    "scrolled": true
   },
   "outputs": [
    {
     "data": {
      "text/html": [
       "<div>\n",
       "<style scoped>\n",
       "    .dataframe tbody tr th:only-of-type {\n",
       "        vertical-align: middle;\n",
       "    }\n",
       "\n",
       "    .dataframe tbody tr th {\n",
       "        vertical-align: top;\n",
       "    }\n",
       "\n",
       "    .dataframe thead th {\n",
       "        text-align: right;\n",
       "    }\n",
       "</style>\n",
       "<table border=\"1\" class=\"dataframe\">\n",
       "  <thead>\n",
       "    <tr style=\"text-align: right;\">\n",
       "      <th></th>\n",
       "      <th>tag</th>\n",
       "      <th>begin_offset</th>\n",
       "      <th>end_offset</th>\n",
       "      <th>text</th>\n",
       "      <th>ref</th>\n",
       "    </tr>\n",
       "  </thead>\n",
       "  <tbody>\n",
       "    <tr>\n",
       "      <th>0</th>\n",
       "      <td>person</td>\n",
       "      <td>6</td>\n",
       "      <td>22</td>\n",
       "      <td>B.R. Haydon Esqr</td>\n",
       "      <td>#Haydon</td>\n",
       "    </tr>\n",
       "    <tr>\n",
       "      <th>1</th>\n",
       "      <td>person</td>\n",
       "      <td>1954</td>\n",
       "      <td>1965</td>\n",
       "      <td>Mrs. Haydon</td>\n",
       "      <td>#Haydon_Mrs</td>\n",
       "    </tr>\n",
       "    <tr>\n",
       "      <th>2</th>\n",
       "      <td>person</td>\n",
       "      <td>2308</td>\n",
       "      <td>2322</td>\n",
       "      <td>M. R. Mitford.</td>\n",
       "      <td>#MRM</td>\n",
       "    </tr>\n",
       "    <tr>\n",
       "      <th>3</th>\n",
       "      <td>person</td>\n",
       "      <td>2326</td>\n",
       "      <td>2344</td>\n",
       "      <td>B. R. Haydon Esqre</td>\n",
       "      <td>#Haydon</td>\n",
       "    </tr>\n",
       "    <tr>\n",
       "      <th>4</th>\n",
       "      <td>place</td>\n",
       "      <td>2364</td>\n",
       "      <td>2383</td>\n",
       "      <td>King's Bench Prison</td>\n",
       "      <td>#Kings_Bench_Prison</td>\n",
       "    </tr>\n",
       "    <tr>\n",
       "      <th>5</th>\n",
       "      <td>place</td>\n",
       "      <td>2386</td>\n",
       "      <td>2392</td>\n",
       "      <td>London</td>\n",
       "      <td>#London_city</td>\n",
       "    </tr>\n",
       "  </tbody>\n",
       "</table>\n",
       "</div>"
      ],
      "text/plain": [
       "      tag  begin_offset  end_offset                 text                  ref\n",
       "0  person             6          22     B.R. Haydon Esqr              #Haydon\n",
       "1  person          1954        1965          Mrs. Haydon          #Haydon_Mrs\n",
       "2  person          2308        2322       M. R. Mitford.                 #MRM\n",
       "3  person          2326        2344   B. R. Haydon Esqre              #Haydon\n",
       "4   place          2364        2383  King's Bench Prison  #Kings_Bench_Prison\n",
       "5   place          2386        2392               London         #London_city"
      ]
     },
     "execution_count": 40,
     "metadata": {},
     "output_type": "execute_result"
    }
   ],
   "source": [
    "gs = pd.read_csv(os.path.join(gold_standard_dir, letter))\n",
    "gs.sort_values(by=['begin_offset'], inplace=True)\n",
    "gs"
   ]
  }
 ],
 "metadata": {
  "kernelspec": {
   "display_name": "Python 3",
   "language": "python",
   "name": "python3"
  },
  "language_info": {
   "codemirror_mode": {
    "name": "ipython",
    "version": 3
   },
   "file_extension": ".py",
   "mimetype": "text/x-python",
   "name": "python",
   "nbconvert_exporter": "python",
   "pygments_lexer": "ipython3",
   "version": "3.6.5"
  }
 },
 "nbformat": 4,
 "nbformat_minor": 2
}
